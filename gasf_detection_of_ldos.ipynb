{
 "cells": [
  {
   "cell_type": "code",
   "execution_count": 1,
   "id": "994f12b9-0909-4c98-8dd3-ca921105058b",
   "metadata": {},
   "outputs": [],
   "source": [
    "import numpy as np\n",
    "import pandas as pd\n",
    "from imblearn.over_sampling import RandomOverSampler\n",
    "\n",
    "from sklearn.model_selection import train_test_split\n",
    "\n",
    "from sklearn.impute import SimpleImputer\n",
    "from sklearn.neighbors import KNeighborsClassifier\n",
    "\n",
    "from sklearn.feature_extraction import FeatureHasher\n",
    "from sklearn.preprocessing import StandardScaler\n",
    "\n",
    "from pyts.image import GramianAngularField\n"
   ]
  },
  {
   "cell_type": "code",
   "execution_count": 19,
   "id": "3a64646a-d419-458c-9b46-7056c921d9d0",
   "metadata": {},
   "outputs": [],
   "source": [
    "file_path = 'gasf_ipp_data.csv'\n",
    "df=pd.read_csv(file_path)"
   ]
  },
  {
   "cell_type": "code",
   "execution_count": 3,
   "id": "c8579654-e67f-461b-bbfe-de27ed3e61b7",
   "metadata": {},
   "outputs": [
    {
     "data": {
      "text/plain": [
       "Index(['id', 'dur', 'proto', 'state', 'spkts', 'dpkts', 'sbytes', 'dbytes',\n",
       "       'rate', 'sttl', 'dttl', 'sload', 'dload', 'sloss', 'dloss', 'sinpkt',\n",
       "       'dinpkt', 'sjit', 'djit', 'swin', 'stcpb', 'dtcpb', 'dwin', 'tcprtt',\n",
       "       'synack', 'ackdat', 'smean', 'dmean', 'trans_depth',\n",
       "       'response_body_len', 'ct_srv_src', 'ct_state_ttl', 'ct_dst_ltm',\n",
       "       'ct_src_dport_ltm', 'ct_dst_sport_ltm', 'ct_dst_src_ltm',\n",
       "       'is_ftp_login', 'ct_ftp_cmd', 'ct_flw_http_mthd', 'ct_src_ltm',\n",
       "       'ct_srv_dst', 'is_sm_ips_ports', 'label', 'service_-', 'service_dhcp',\n",
       "       'service_dns', 'service_ftp', 'service_ftp-data', 'service_http',\n",
       "       'service_irc', 'service_pop3', 'service_radius', 'service_smtp',\n",
       "       'service_snmp', 'service_ssh', 'service_ssl', 'proto_tcp', 'proto_udp'],\n",
       "      dtype='object')"
      ]
     },
     "execution_count": 3,
     "metadata": {},
     "output_type": "execute_result"
    }
   ],
   "source": [
    "df.columns"
   ]
  },
  {
   "cell_type": "code",
   "execution_count": 4,
   "id": "bf980b02-ebc8-4370-9cf3-d3580547abc6",
   "metadata": {},
   "outputs": [
    {
     "name": "stdout",
     "output_type": "stream",
     "text": [
      "Composite Threshold: 2059159.0\n"
     ]
    }
   ],
   "source": [
    "# Calculate individual thresholds\n",
    "udp_thresholds = {\n",
    "    'spkts': 1.094848e+03,\n",
    "    'dpkts': 1.561638e+03,\n",
    "    'sbytes': 1.351127e+06,\n",
    "    'dbytes': 2.059159e+06\n",
    "}\n",
    "\n",
    "# Combine thresholds using the maximum value\n",
    "composite_threshold = max(udp_thresholds.values())\n",
    "\n",
    "print(\"Composite Threshold:\", composite_threshold)\n"
   ]
  },
  {
   "cell_type": "code",
   "execution_count": 5,
   "id": "8578f4ee-c976-49fc-996f-d1507285f376",
   "metadata": {},
   "outputs": [],
   "source": [
    "tcp_columns = ['spkts', 'dpkts', 'sbytes', 'dbytes', 'sttl', 'dttl', 'tcprtt']\n",
    "udp_columns = ['spkts', 'dpkts', 'sbytes', 'dbytes']\n",
    "aggregate_columns = ['rate', 'sload', 'dload', 'sinpkt', 'dinpkt']"
   ]
  },
  {
   "cell_type": "code",
   "execution_count": 6,
   "id": "95b7b8b0-0c87-4d11-bd8c-e5262f12e328",
   "metadata": {},
   "outputs": [
    {
     "name": "stdout",
     "output_type": "stream",
     "text": [
      "Threshold for detecting abnormal peaks in UDP-related columns: 61084.0\n"
     ]
    }
   ],
   "source": [
    "percentiles_95 = df[udp_columns].quantile(0.95)\n",
    "\n",
    "# Set the threshold as the maximum of the 95th percentiles\n",
    "threshold = percentiles_95.max()\n",
    "\n",
    "print(\"Threshold for detecting abnormal peaks in UDP-related columns:\", threshold)\n"
   ]
  },
  {
   "cell_type": "code",
   "execution_count": 7,
   "id": "de837be9-1d16-4b17-be19-1b6482b86c48",
   "metadata": {},
   "outputs": [
    {
     "name": "stdout",
     "output_type": "stream",
     "text": [
      "spkts     1.094848e+03\n",
      "dpkts     1.561638e+03\n",
      "sbytes    1.351127e+06\n",
      "dbytes    2.059159e+06\n",
      "dtype: float64\n"
     ]
    }
   ],
   "source": [
    "udp_means = df[udp_columns].mean()\n",
    "udp_stds = df[udp_columns].std()\n",
    "\n",
    "# Calculate the thresholds for each UDP column\n",
    "udp_thresholds = udp_means + 3 * udp_stds\n",
    "\n",
    "# Print the thresholds\n",
    "print(udp_thresholds)"
   ]
  },
  {
   "cell_type": "code",
   "execution_count": 8,
   "id": "dad03aa4-ea55-45d5-965e-812c3def638d",
   "metadata": {},
   "outputs": [
    {
     "data": {
      "text/plain": [
       "spkts        52.684907\n",
       "dpkts        59.355460\n",
       "sbytes    35768.809236\n",
       "dbytes    57239.552093\n",
       "dtype: float64"
      ]
     },
     "execution_count": 8,
     "metadata": {},
     "output_type": "execute_result"
    }
   ],
   "source": [
    "udp_means"
   ]
  },
  {
   "cell_type": "code",
   "execution_count": 9,
   "id": "0ee13c81-52b6-4f74-9b4d-3cc728538513",
   "metadata": {},
   "outputs": [],
   "source": [
    "threshold=0.5"
   ]
  },
  {
   "cell_type": "code",
   "execution_count": 10,
   "id": "0926c612-e8f7-4eff-81e6-300798370869",
   "metadata": {},
   "outputs": [
    {
     "data": {
      "text/html": [
       "<div>\n",
       "<style scoped>\n",
       "    .dataframe tbody tr th:only-of-type {\n",
       "        vertical-align: middle;\n",
       "    }\n",
       "\n",
       "    .dataframe tbody tr th {\n",
       "        vertical-align: top;\n",
       "    }\n",
       "\n",
       "    .dataframe thead th {\n",
       "        text-align: right;\n",
       "    }\n",
       "</style>\n",
       "<table border=\"1\" class=\"dataframe\">\n",
       "  <thead>\n",
       "    <tr style=\"text-align: right;\">\n",
       "      <th></th>\n",
       "      <th>score_traffic</th>\n",
       "      <th>cal_tcp</th>\n",
       "      <th>cal_udp</th>\n",
       "    </tr>\n",
       "  </thead>\n",
       "  <tbody>\n",
       "    <tr>\n",
       "      <th>33693</th>\n",
       "      <td>0.459755</td>\n",
       "      <td>1.951241</td>\n",
       "      <td>2.0</td>\n",
       "    </tr>\n",
       "    <tr>\n",
       "      <th>20359</th>\n",
       "      <td>0.459755</td>\n",
       "      <td>1.951241</td>\n",
       "      <td>2.0</td>\n",
       "    </tr>\n",
       "    <tr>\n",
       "      <th>30127</th>\n",
       "      <td>0.458350</td>\n",
       "      <td>1.801726</td>\n",
       "      <td>2.0</td>\n",
       "    </tr>\n",
       "  </tbody>\n",
       "</table>\n",
       "</div>"
      ],
      "text/plain": [
       "       score_traffic   cal_tcp  cal_udp\n",
       "33693       0.459755  1.951241      2.0\n",
       "20359       0.459755  1.951241      2.0\n",
       "30127       0.458350  1.801726      2.0"
      ]
     },
     "execution_count": 10,
     "metadata": {},
     "output_type": "execute_result"
    }
   ],
   "source": [
    "\n",
    "# Assuming `df` is your DataFrame containing the dataset\n",
    "\n",
    "# Define columns for feature extraction\n",
    "tcp_columns = ['spkts', 'dpkts', 'sbytes', 'dbytes', 'sttl', 'dttl', 'tcprtt']\n",
    "udp_columns = ['spkts', 'dpkts', 'sbytes', 'dbytes']\n",
    "aggregate_columns = ['rate', 'sload', 'dload', 'sinpkt', 'dinpkt']\n",
    "\n",
    "def calculate_cov(data):\n",
    "    mean = np.mean(data)\n",
    "    std_dev = np.std(data)\n",
    "    cov = std_dev / mean if mean != 0 else 0\n",
    "    return cov\n",
    "\n",
    "def calc_tcp_cov(row):\n",
    "    tcp_values = row[tcp_columns]\n",
    "    return calculate_cov(tcp_values)\n",
    "\n",
    "# def count_abnormal_peaks(data, threshold):\n",
    "#     mean = np.mean(data)\n",
    "#     std_dev = np.std(data)\n",
    "#     if std_dev == 0:  # Handle case where standard deviation is 0\n",
    "#         return 0\n",
    "#     peak_threshold = mean + std_dev\n",
    "#     abnormal_peaks = np.sum(data > peak_threshold)\n",
    "#     return abnormal_peaks\n",
    "\n",
    "# def calc_udp_peaks(row, threshold):\n",
    "#     udp_values = row[udp_columns]\n",
    "#     return count_abnormal_peaks(udp_values, threshold)\n",
    "\n",
    "def calc_udp_abnormal_peaks(row, threshold):\n",
    "    udp_values = row[udp_columns]\n",
    "    abnormal_peaks = np.sum(udp_values > threshold)\n",
    "    return abnormal_peaks\n",
    "\n",
    "def calc_gasf_matrix(row):\n",
    "    aggregate_values = row[aggregate_columns].values.reshape(1, -1)\n",
    "    gasf = GramianAngularField(image_size=len(aggregate_columns), method='summation')\n",
    "    return gasf.fit_transform(aggregate_values)[0]\n",
    "\n",
    "def calc_gasf_moments(gasf_matrix):\n",
    "    if np.isnan(gasf_matrix).any() or np.std(gasf_matrix) == 0:  # Check for NaN values or standard deviation being 0\n",
    "        return np.nan, np.nan, np.nan\n",
    "    mean = np.mean(gasf_matrix)\n",
    "    std_dev = np.std(gasf_matrix)\n",
    "    # skewness = np.mean((gasf_matrix - mean) ** 3) ** (1/3)\n",
    "    skewness = np.nanmean(np.cbrt((gasf_matrix - mean) ** 3))\n",
    "\n",
    "    return mean, std_dev, skewness\n",
    "\n",
    "def weighted_sum_moments(mean, std_dev, skewness, w1, w2, w3):\n",
    "    if np.isnan(mean) or np.isnan(std_dev) or np.isnan(skewness):\n",
    "        return np.nan  # Return NaN if any moment is NaN\n",
    "    return mean * w1 + std_dev * w2 + skewness * w3\n",
    "\n",
    "# Add new columns to DataFrame with calculated features\n",
    "df['cal_tcp'] = df.apply(calc_tcp_cov, axis=1)\n",
    "df['cal_udp'] = df.apply(lambda row: calc_udp_abnormal_peaks(row, threshold ), axis=1)\n",
    "df['gasf_matrix'] = df.apply(calc_gasf_matrix, axis=1)\n",
    "df[['moment1', 'moment2', 'moment3']] = df['gasf_matrix'].apply(lambda x: pd.Series(calc_gasf_moments(x)))\n",
    "df['score_traffic'] = df.apply(lambda row: weighted_sum_moments(row['moment1'], row['moment2'], row['moment3'], 0.5, 0.3, 0.2), axis=1)\n",
    "\n",
    "# Features and target labels\n",
    "X = df[['score_traffic', 'cal_tcp',\"cal_udp\"]]\n",
    "y = df['label']  # Assuming 'label' is the column indicating if a row is an anomaly\n",
    "\n",
    "# # Drop rows with NaN values in the target label (y)\n",
    "# X = X.dropna(subset=['score_traffic', 'cal_tcp', 'moment1', 'moment2', 'moment3', 'label'])\n",
    "# y = y.dropna()\n",
    "# Drop rows with NaN values in the target label (y)\n",
    "X = X.dropna(subset=['score_traffic', 'cal_tcp',\"cal_udp\"])\n",
    "y = y.dropna()\n",
    "\n",
    "# Merge X and y back together\n",
    "df_cleaned = pd.concat([X, y], axis=1)\n",
    "\n",
    "# Drop rows with NaN values in the target label (y)\n",
    "df_cleaned = df_cleaned.dropna(subset=['score_traffic', 'cal_tcp', \"cal_udp\",'label'])\n",
    "\n",
    "# Split the data again after dropping NaN values\n",
    "X = df_cleaned[['score_traffic', 'cal_tcp',\"cal_udp\"]]\n",
    "y = df_cleaned['label']\n",
    "\n",
    "X_train, X_test, y_train, y_test = train_test_split(X, y, test_size=0.2, random_state=42)\n",
    "\n",
    "\n",
    "# Split the data\n",
    "X_train, X_test, y_train, y_test = train_test_split(X, y, test_size=0.2, random_state=42)\n",
    "\n",
    "\n",
    "X_test.head(3)"
   ]
  },
  {
   "cell_type": "code",
   "execution_count": 11,
   "id": "99bc8ac2-f494-4790-ac4a-42cbb9c987cb",
   "metadata": {},
   "outputs": [
    {
     "data": {
      "text/html": [
       "<div>\n",
       "<style scoped>\n",
       "    .dataframe tbody tr th:only-of-type {\n",
       "        vertical-align: middle;\n",
       "    }\n",
       "\n",
       "    .dataframe tbody tr th {\n",
       "        vertical-align: top;\n",
       "    }\n",
       "\n",
       "    .dataframe thead th {\n",
       "        text-align: right;\n",
       "    }\n",
       "</style>\n",
       "<table border=\"1\" class=\"dataframe\">\n",
       "  <thead>\n",
       "    <tr style=\"text-align: right;\">\n",
       "      <th></th>\n",
       "      <th>score_traffic</th>\n",
       "      <th>cal_tcp</th>\n",
       "      <th>cal_udp</th>\n",
       "    </tr>\n",
       "  </thead>\n",
       "  <tbody>\n",
       "    <tr>\n",
       "      <th>39370</th>\n",
       "      <td>0.300895</td>\n",
       "      <td>1.142877</td>\n",
       "      <td>4.0</td>\n",
       "    </tr>\n",
       "    <tr>\n",
       "      <th>65559</th>\n",
       "      <td>0.408106</td>\n",
       "      <td>2.112326</td>\n",
       "      <td>4.0</td>\n",
       "    </tr>\n",
       "    <tr>\n",
       "      <th>70107</th>\n",
       "      <td>0.459765</td>\n",
       "      <td>2.302339</td>\n",
       "      <td>2.0</td>\n",
       "    </tr>\n",
       "  </tbody>\n",
       "</table>\n",
       "</div>"
      ],
      "text/plain": [
       "       score_traffic   cal_tcp  cal_udp\n",
       "39370       0.300895  1.142877      4.0\n",
       "65559       0.408106  2.112326      4.0\n",
       "70107       0.459765  2.302339      2.0"
      ]
     },
     "execution_count": 11,
     "metadata": {},
     "output_type": "execute_result"
    }
   ],
   "source": [
    "X_train.head(3)"
   ]
  },
  {
   "cell_type": "code",
   "execution_count": 12,
   "id": "4861de9c-25fb-4487-865f-9f21b991bfed",
   "metadata": {},
   "outputs": [
    {
     "name": "stdout",
     "output_type": "stream",
     "text": [
      "Accuracy: 0.978499127399651\n",
      "Confusion Matrix:\n",
      " [[6907  292]\n",
      " [  16 7110]]\n",
      "Classification Report:\n",
      "               precision    recall  f1-score   support\n",
      "\n",
      "           0       1.00      0.96      0.98      7199\n",
      "           1       0.96      1.00      0.98      7126\n",
      "\n",
      "    accuracy                           0.98     14325\n",
      "   macro avg       0.98      0.98      0.98     14325\n",
      "weighted avg       0.98      0.98      0.98     14325\n",
      "\n"
     ]
    }
   ],
   "source": [
    "from sklearn.neighbors import KNeighborsClassifier\n",
    "from sklearn.metrics import accuracy_score, confusion_matrix, classification_report\n",
    "\n",
    "# Initialize the KNN classifier\n",
    "knn = KNeighborsClassifier(n_neighbors=5)\n",
    "\n",
    "# Fit the model\n",
    "knn.fit(X_train, y_train)\n",
    "\n",
    "# Make predictions on the test set\n",
    "y_pred = knn.predict(X_test)\n",
    "\n",
    "# Evaluate the model\n",
    "accuracy = accuracy_score(y_test, y_pred)\n",
    "conf_matrix = confusion_matrix(y_test, y_pred)\n",
    "class_report = classification_report(y_test, y_pred)\n",
    "\n",
    "print(\"Accuracy:\", accuracy)\n",
    "print(\"Confusion Matrix:\\n\", conf_matrix)\n",
    "print(\"Classification Report:\\n\", class_report)\n",
    "\n"
   ]
  },
  {
   "cell_type": "code",
   "execution_count": 13,
   "id": "d53e2004-8969-413c-8be9-f544aaa0ebff",
   "metadata": {},
   "outputs": [
    {
     "data": {
      "text/html": [
       "<div>\n",
       "<style scoped>\n",
       "    .dataframe tbody tr th:only-of-type {\n",
       "        vertical-align: middle;\n",
       "    }\n",
       "\n",
       "    .dataframe tbody tr th {\n",
       "        vertical-align: top;\n",
       "    }\n",
       "\n",
       "    .dataframe thead th {\n",
       "        text-align: right;\n",
       "    }\n",
       "</style>\n",
       "<table border=\"1\" class=\"dataframe\">\n",
       "  <thead>\n",
       "    <tr style=\"text-align: right;\">\n",
       "      <th></th>\n",
       "      <th>score_traffic</th>\n",
       "      <th>cal_tcp</th>\n",
       "      <th>cal_udp</th>\n",
       "    </tr>\n",
       "  </thead>\n",
       "  <tbody>\n",
       "    <tr>\n",
       "      <th>39370</th>\n",
       "      <td>0.300895</td>\n",
       "      <td>1.142877</td>\n",
       "      <td>4.0</td>\n",
       "    </tr>\n",
       "    <tr>\n",
       "      <th>65559</th>\n",
       "      <td>0.408106</td>\n",
       "      <td>2.112326</td>\n",
       "      <td>4.0</td>\n",
       "    </tr>\n",
       "    <tr>\n",
       "      <th>70107</th>\n",
       "      <td>0.459765</td>\n",
       "      <td>2.302339</td>\n",
       "      <td>2.0</td>\n",
       "    </tr>\n",
       "  </tbody>\n",
       "</table>\n",
       "</div>"
      ],
      "text/plain": [
       "       score_traffic   cal_tcp  cal_udp\n",
       "39370       0.300895  1.142877      4.0\n",
       "65559       0.408106  2.112326      4.0\n",
       "70107       0.459765  2.302339      2.0"
      ]
     },
     "execution_count": 13,
     "metadata": {},
     "output_type": "execute_result"
    }
   ],
   "source": [
    "X_train.head(3)"
   ]
  },
  {
   "cell_type": "code",
   "execution_count": 14,
   "id": "dcec1e87-e7d7-4137-91d6-c723cf6a4cf6",
   "metadata": {},
   "outputs": [
    {
     "name": "stdout",
     "output_type": "stream",
     "text": [
      "TCP - Accuracy: 0.9713089005235602\n",
      "TCP - Confusion Matrix:\n",
      " [[6804  395]\n",
      " [  16 7110]]\n",
      "TCP - Classification Report:\n",
      "               precision    recall  f1-score   support\n",
      "\n",
      "           0       1.00      0.95      0.97      7199\n",
      "           1       0.95      1.00      0.97      7126\n",
      "\n",
      "    accuracy                           0.97     14325\n",
      "   macro avg       0.97      0.97      0.97     14325\n",
      "weighted avg       0.97      0.97      0.97     14325\n",
      "\n"
     ]
    }
   ],
   "source": [
    "X_train_tcp = X_train[['cal_tcp']]\n",
    "y_train_tcp = y_train  # Assuming 'label' is the column indicating if a row is an anomaly\n",
    "\n",
    "X_test_tcp = X_test[['cal_tcp']]\n",
    "y_test_tcp = y_test \n",
    "\n",
    "# # Drop rows with NaN values in the target label (y_tcp)\n",
    "# X_tcp = X_tcp.dropna(subset=['cal_tcp'])\n",
    "# y_tcp = y_tcp.dropna()\n",
    "\n",
    "# Merge X and y back together for TCP\n",
    "# df_cleaned_tcp = pd.concat([X_tcp, y_tcp], axis=1)\n",
    "\n",
    "# Drop rows with NaN values in the target label (y_tcp)\n",
    "# df_cleaned_tcp = df_cleaned_tcp.dropna(subset=['cal_tcp', 'label'])\n",
    "\n",
    "# Split the data for TCP\n",
    "# X_train_tcp, X_test_tcp, y_train_tcp, y_test_tcp = train_test_split(df_cleaned_tcp[['cal_tcp']], df_cleaned_tcp['label'], test_size=0.2, random_state=42)\n",
    "\n",
    "# Initialize the KNN classifier for TCP\n",
    "knn_tcp = KNeighborsClassifier(n_neighbors=5)\n",
    "\n",
    "# Fit the model for TCP\n",
    "knn_tcp.fit(X_train_tcp, y_train_tcp)\n",
    "\n",
    "# Make predictions on the test set for TCP\n",
    "y_pred_tcp = knn_tcp.predict(X_test_tcp)\n",
    "\n",
    "X_test[\"y_pred_tcp\"]=y_pred_tcp\n",
    "\n",
    "\n",
    "\n",
    "# Evaluate the model for TCP\n",
    "accuracy_tcp = accuracy_score(y_test_tcp, y_pred_tcp)\n",
    "conf_matrix_tcp = confusion_matrix(y_test_tcp, y_pred_tcp)\n",
    "class_report_tcp = classification_report(y_test_tcp, y_pred_tcp)\n",
    "\n",
    "print(\"TCP - Accuracy:\", accuracy_tcp)\n",
    "print(\"TCP - Confusion Matrix:\\n\", conf_matrix_tcp)\n",
    "print(\"TCP - Classification Report:\\n\", class_report_tcp)\n"
   ]
  },
  {
   "cell_type": "code",
   "execution_count": 15,
   "id": "11fe6dc6-aca0-45fd-8d26-9d90c3bf8a4a",
   "metadata": {},
   "outputs": [
    {
     "name": "stdout",
     "output_type": "stream",
     "text": [
      "Accuracy for final algorithm: 0.992739965095986\n",
      "Confusion Matrix for final algorithm:\n",
      " [[7111   88]\n",
      " [  16 7110]]\n",
      "Classification Report for final algorithm:\n",
      "               precision    recall  f1-score   support\n",
      "\n",
      "           0       1.00      0.99      0.99      7199\n",
      "           1       0.99      1.00      0.99      7126\n",
      "\n",
      "    accuracy                           0.99     14325\n",
      "   macro avg       0.99      0.99      0.99     14325\n",
      "weighted avg       0.99      0.99      0.99     14325\n",
      "\n"
     ]
    }
   ],
   "source": [
    " # Separate features and labels for Score Traffic\n",
    "X_train_score_traffic = X_train[['score_traffic']]\n",
    "y_train_score_traffic = y_train  \n",
    "\n",
    "X_test_score_traffic = X_test[['score_traffic']]\n",
    "y_test_score_traffic = y_test \n",
    "\n",
    "# Initialize the KNN classifier for Score Traffic\n",
    "knn_score_traffic = KNeighborsClassifier(n_neighbors=5)\n",
    "\n",
    "# Fit the model for Score Traffic\n",
    "knn_score_traffic.fit(X_train_score_traffic, y_train_score_traffic)\n",
    "\n",
    "# Make predictions on the test set for Score Traffic\n",
    "y_pred_score_traffic = knn_score_traffic.predict(X_test_score_traffic)\n",
    "\n",
    "# Add Score Traffic predictions to X_test\n",
    "X_test[\"y_pred_score_traffic\"] = y_pred_score_traffic\n",
    "\n",
    "# Separate features and labels for UDP\n",
    "X_train_udp = X_train[['cal_udp']]\n",
    "y_train_udp = y_train  \n",
    "\n",
    "X_test_udp = X_test[['cal_udp']]\n",
    "y_test_udp = y_test \n",
    "\n",
    "# Set the threshold for UDP\n",
    "thresholdPeak = 1\n",
    "\n",
    "# Calculate UDP predictions\n",
    "y_pred_udp = X_test_udp['cal_udp'] > thresholdPeak\n",
    "\n",
    "# Add UDP predictions to X_test\n",
    "X_test[\"y_pred_udp\"] = y_pred_udp\n",
    "\n",
    "# Apply the final algorithm\n",
    "X_test['Result'] = (X_test['y_pred_tcp'] & X_test['y_pred_score_traffic'] & X_test['y_pred_udp'])\n",
    "\n",
    "# Evaluate the final algorithm\n",
    "accuracy = accuracy_score(y_test, X_test['Result'])\n",
    "conf_matrix = confusion_matrix(y_test, X_test['Result'])\n",
    "class_report = classification_report(y_test, X_test['Result'])\n",
    "\n",
    "print(\"Accuracy for final algorithm:\", accuracy)\n",
    "print(\"Confusion Matrix for final algorithm:\\n\", conf_matrix)\n",
    "print(\"Classification Report for final algorithm:\\n\", class_report)"
   ]
  },
  {
   "cell_type": "code",
   "execution_count": 16,
   "id": "1d7be09d-319e-4f20-a58d-511cebe37a49",
   "metadata": {},
   "outputs": [
    {
     "data": {
      "text/html": [
       "<div>\n",
       "<style scoped>\n",
       "    .dataframe tbody tr th:only-of-type {\n",
       "        vertical-align: middle;\n",
       "    }\n",
       "\n",
       "    .dataframe tbody tr th {\n",
       "        vertical-align: top;\n",
       "    }\n",
       "\n",
       "    .dataframe thead th {\n",
       "        text-align: right;\n",
       "    }\n",
       "</style>\n",
       "<table border=\"1\" class=\"dataframe\">\n",
       "  <thead>\n",
       "    <tr style=\"text-align: right;\">\n",
       "      <th></th>\n",
       "      <th>score_traffic</th>\n",
       "      <th>cal_tcp</th>\n",
       "      <th>cal_udp</th>\n",
       "      <th>y_pred_tcp</th>\n",
       "      <th>y_pred_score_traffic</th>\n",
       "      <th>y_pred_udp</th>\n",
       "      <th>Result</th>\n",
       "    </tr>\n",
       "  </thead>\n",
       "  <tbody>\n",
       "    <tr>\n",
       "      <th>33693</th>\n",
       "      <td>0.459755</td>\n",
       "      <td>1.951241</td>\n",
       "      <td>2.0</td>\n",
       "      <td>0</td>\n",
       "      <td>0</td>\n",
       "      <td>True</td>\n",
       "      <td>False</td>\n",
       "    </tr>\n",
       "    <tr>\n",
       "      <th>20359</th>\n",
       "      <td>0.459755</td>\n",
       "      <td>1.951241</td>\n",
       "      <td>2.0</td>\n",
       "      <td>0</td>\n",
       "      <td>0</td>\n",
       "      <td>True</td>\n",
       "      <td>False</td>\n",
       "    </tr>\n",
       "    <tr>\n",
       "      <th>30127</th>\n",
       "      <td>0.458350</td>\n",
       "      <td>1.801726</td>\n",
       "      <td>2.0</td>\n",
       "      <td>0</td>\n",
       "      <td>0</td>\n",
       "      <td>True</td>\n",
       "      <td>False</td>\n",
       "    </tr>\n",
       "    <tr>\n",
       "      <th>47981</th>\n",
       "      <td>0.360944</td>\n",
       "      <td>1.566381</td>\n",
       "      <td>4.0</td>\n",
       "      <td>1</td>\n",
       "      <td>1</td>\n",
       "      <td>True</td>\n",
       "      <td>True</td>\n",
       "    </tr>\n",
       "    <tr>\n",
       "      <th>14970</th>\n",
       "      <td>0.305914</td>\n",
       "      <td>1.693494</td>\n",
       "      <td>4.0</td>\n",
       "      <td>0</td>\n",
       "      <td>0</td>\n",
       "      <td>True</td>\n",
       "      <td>False</td>\n",
       "    </tr>\n",
       "  </tbody>\n",
       "</table>\n",
       "</div>"
      ],
      "text/plain": [
       "       score_traffic   cal_tcp  cal_udp  y_pred_tcp  y_pred_score_traffic  \\\n",
       "33693       0.459755  1.951241      2.0           0                     0   \n",
       "20359       0.459755  1.951241      2.0           0                     0   \n",
       "30127       0.458350  1.801726      2.0           0                     0   \n",
       "47981       0.360944  1.566381      4.0           1                     1   \n",
       "14970       0.305914  1.693494      4.0           0                     0   \n",
       "\n",
       "       y_pred_udp  Result  \n",
       "33693        True   False  \n",
       "20359        True   False  \n",
       "30127        True   False  \n",
       "47981        True    True  \n",
       "14970        True   False  "
      ]
     },
     "execution_count": 16,
     "metadata": {},
     "output_type": "execute_result"
    }
   ],
   "source": [
    "X_test.head()"
   ]
  },
  {
   "cell_type": "code",
   "execution_count": 17,
   "id": "037d51fd-c27a-4edf-a1e5-34257116caa0",
   "metadata": {},
   "outputs": [],
   "source": [
    "# X_test[\"Result\"].unique()\n",
    "# X_test[\"Result\"].value_counts()[True]\n",
    "# y_test.value_counts()[1]"
   ]
  },
  {
   "cell_type": "code",
   "execution_count": 18,
   "id": "051b1c7d-f443-4e0d-bf40-c14d5a1216b0",
   "metadata": {},
   "outputs": [
    {
     "name": "stdout",
     "output_type": "stream",
     "text": [
      "Accuracy: 99.2739965095986\n",
      "Classification Report:\n",
      "               precision    recall  f1-score   support\n",
      "\n",
      "           0       1.00      0.99      0.99      7199\n",
      "           1       0.99      1.00      0.99      7126\n",
      "\n",
      "    accuracy                           0.99     14325\n",
      "   macro avg       0.99      0.99      0.99     14325\n",
      "weighted avg       0.99      0.99      0.99     14325\n",
      "\n"
     ]
    }
   ],
   "source": [
    "import pandas as pd\n",
    "from sklearn.metrics import classification_report\n",
    "\n",
    "# Assuming y_test contains the actual labels and X_test['Result'] contains the detected labels\n",
    "comparison_df = pd.DataFrame({'Actual': y_test, 'Detected': X_test['Result']})\n",
    "\n",
    "# Calculate accuracy\n",
    "accuracy = (comparison_df['Actual'] == comparison_df['Detected']).mean() * 100\n",
    "print(\"Accuracy:\", accuracy)\n",
    "\n",
    "# Print classification report\n",
    "report = classification_report(comparison_df['Actual'], comparison_df['Detected'])\n",
    "print(\"Classification Report:\\n\", report)\n"
   ]
  }
 ],
 "metadata": {
  "kernelspec": {
   "display_name": "Python 3 (ipykernel)",
   "language": "python",
   "name": "python3"
  },
  "language_info": {
   "codemirror_mode": {
    "name": "ipython",
    "version": 3
   },
   "file_extension": ".py",
   "mimetype": "text/x-python",
   "name": "python",
   "nbconvert_exporter": "python",
   "pygments_lexer": "ipython3",
   "version": "3.10.12"
  }
 },
 "nbformat": 4,
 "nbformat_minor": 5
}
